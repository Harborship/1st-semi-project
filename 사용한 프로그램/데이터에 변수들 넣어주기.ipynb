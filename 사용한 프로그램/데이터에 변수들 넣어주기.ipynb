{
 "cells": [
  {
   "cell_type": "code",
   "execution_count": 69,
   "id": "97f61d71",
   "metadata": {},
   "outputs": [],
   "source": [
    "from numpy import sin, cos, arccos, pi, round\n",
    "\n",
    "def rad2deg(radians):\n",
    "    degrees = radians * 180 / pi\n",
    "    return degrees\n",
    "\n",
    "def deg2rad(degrees):\n",
    "    radians = degrees * pi / 180\n",
    "    return radians\n",
    "\n",
    "def getDistanceBetweenPointsNew(latitude1, longitude1, latitude2, longitude2, unit = 'miles'):\n",
    "    \n",
    "    theta = longitude1 - longitude2\n",
    "    \n",
    "    distance = 60 * 1.1515 * rad2deg(\n",
    "        arccos(\n",
    "            (sin(deg2rad(latitude1)) * sin(deg2rad(latitude2))) + \n",
    "            (cos(deg2rad(latitude1)) * cos(deg2rad(latitude2)) * cos(deg2rad(theta)))\n",
    "        )\n",
    "    )\n",
    "    \n",
    "    if unit == 'miles':\n",
    "        return round(distance, 2)\n",
    "    if unit == 'km':\n",
    "        return round(distance * 1.609344, 2)"
   ]
  },
  {
   "cell_type": "code",
   "execution_count": 70,
   "id": "3f83ecb9",
   "metadata": {},
   "outputs": [],
   "source": [
    "import pandas as pd\n",
    "import numpy as np\n",
    "from tqdm import tqdm"
   ]
  },
  {
   "cell_type": "code",
   "execution_count": 214,
   "id": "ea0612ec",
   "metadata": {},
   "outputs": [
    {
     "data": {
      "text/plain": [
       "Index(['주소', '단지명', '전용면적(㎡)', '계약년월', '계약일', '보증금(만원)', '층', '건축년도', '도로명',\n",
       "       'latitude', 'longitude', 'home_cnt', 'home_size', 'room_cnt',\n",
       "       'bath_cnt', 'edu', 'bus', 'sub_dist', '1호선', '2호선', '3호선', '4호선', '5호선',\n",
       "       '6호선', '7호선', '8호선', '9호선'],\n",
       "      dtype='object')"
      ]
     },
     "execution_count": 214,
     "metadata": {},
     "output_type": "execute_result"
    }
   ],
   "source": [
    "# 실거래 데이터 불러오기\n",
    "\n",
    "data_df=pd.read_csv('./data/전처리 완료 데이터/전세_실거래_데이터_완성본.csv')\n",
    "data_df=data_df[data_df['bath_cnt']!='-']\n",
    "data_df.reset_index(drop=True, inplace=True)\n",
    "data_df=data_df.astype({'room_cnt' : 'int', 'bath_cnt' : 'int'})\n",
    "data_df.columns"
   ]
  },
  {
   "cell_type": "code",
   "execution_count": 145,
   "id": "2bfe2dfe",
   "metadata": {
    "scrolled": false
   },
   "outputs": [
    {
     "name": "stderr",
     "output_type": "stream",
     "text": [
      "C:\\Users\\jhgf\\AppData\\Local\\Temp\\ipykernel_8684\\2562235682.py:3: DtypeWarning: Columns (15,16) have mixed types. Specify dtype option on import or set low_memory=False.\n",
      "  data_df=pd.read_csv('./data/전세_실거래_데이터_완성본.csv', encoding='cp949')\n",
      "100%|█████████████████████████████████████████████████████████████████████████| 578955/578955 [57:10<00:00, 168.78it/s]\n"
     ]
    }
   ],
   "source": [
    "# 지하철역 데이터 가공\n",
    "subway_df=pd.read_csv('./data/전처리 완료 데이터/서울_지하철역_위치정보.csv')\n",
    "subway_df.drop('Unnamed: 0', axis=1, inplace=True)\n",
    "\n",
    "station=[]\n",
    "dis_value=[]\n",
    "\n",
    "for i in tqdm(data_df.index) :\n",
    "    lat = data_df.loc[i, ['latitude','longitude']].astype('float64')['latitude'] \n",
    "    long = data_df.loc[i, ['latitude','longitude']].astype('float64')['longitude']\n",
    "    distance=getDistanceBetweenPointsNew( lat, long, \n",
    "                                subway_df[['latitude','longitude']].astype('float64')['latitude'], \n",
    "                                subway_df[['latitude','longitude']].astype('float64')['longitude'], unit= 'km')\n",
    "    station.append( list (set( list( subway_df.loc[distance.loc[(distance>=distance.min())&(distance<=distance.min()+0.5)].index, 'line'] ) ) ) )\n",
    "    dis_value.append( distance.loc[(distance>=distance.min())&(distance<=distance.min()+0.5)].min() )\n",
    "    \n",
    "station_index=[]\n",
    "for data in station:\n",
    "    lst=[0 for i in range(9)]\n",
    "    for i in data:\n",
    "        lst[i-1]=1\n",
    "    station_index.append(lst)   \n",
    "\n",
    "station_data=pd.DataFrame(station_index)\n",
    "station_data.columns=[str(i)+'호선' for i in range(1,10)]\n",
    "station_data.to_csv('./data/전처리 완료 데이터/station_info.csv', index=False)\n",
    "\n",
    "pd.DataFrame(dis_value, columns=['sub_dist']).to_csv('./data/전처리 완료 데이터/station_distance.csv', index=False)"
   ]
  },
  {
   "cell_type": "code",
   "execution_count": 137,
   "id": "eafa9c42",
   "metadata": {
    "scrolled": true
   },
   "outputs": [
    {
     "name": "stderr",
     "output_type": "stream",
     "text": [
      "  0%|                                                                            | 469/578955 [00:02<58:36, 164.51it/s]\n"
     ]
    },
    {
     "ename": "KeyboardInterrupt",
     "evalue": "",
     "output_type": "error",
     "traceback": [
      "\u001b[1;31m---------------------------------------------------------------------------\u001b[0m",
      "\u001b[1;31mKeyboardInterrupt\u001b[0m                         Traceback (most recent call last)",
      "Input \u001b[1;32mIn [137]\u001b[0m, in \u001b[0;36m<cell line: 7>\u001b[1;34m()\u001b[0m\n\u001b[0;32m      8\u001b[0m lat \u001b[38;5;241m=\u001b[39m data_df\u001b[38;5;241m.\u001b[39mloc[i, [\u001b[38;5;124m'\u001b[39m\u001b[38;5;124mlatitude\u001b[39m\u001b[38;5;124m'\u001b[39m,\u001b[38;5;124m'\u001b[39m\u001b[38;5;124mlongitude\u001b[39m\u001b[38;5;124m'\u001b[39m]]\u001b[38;5;241m.\u001b[39mastype(\u001b[38;5;124m'\u001b[39m\u001b[38;5;124mfloat64\u001b[39m\u001b[38;5;124m'\u001b[39m)[\u001b[38;5;124m'\u001b[39m\u001b[38;5;124mlatitude\u001b[39m\u001b[38;5;124m'\u001b[39m] \n\u001b[0;32m      9\u001b[0m long \u001b[38;5;241m=\u001b[39m data_df\u001b[38;5;241m.\u001b[39mloc[i, [\u001b[38;5;124m'\u001b[39m\u001b[38;5;124mlatitude\u001b[39m\u001b[38;5;124m'\u001b[39m,\u001b[38;5;124m'\u001b[39m\u001b[38;5;124mlongitude\u001b[39m\u001b[38;5;124m'\u001b[39m]]\u001b[38;5;241m.\u001b[39mastype(\u001b[38;5;124m'\u001b[39m\u001b[38;5;124mfloat64\u001b[39m\u001b[38;5;124m'\u001b[39m)[\u001b[38;5;124m'\u001b[39m\u001b[38;5;124mlongitude\u001b[39m\u001b[38;5;124m'\u001b[39m]\n\u001b[1;32m---> 10\u001b[0m distance\u001b[38;5;241m=\u001b[39m\u001b[43mgetDistanceBetweenPointsNew\u001b[49m\u001b[43m(\u001b[49m\u001b[43m \u001b[49m\u001b[43mlat\u001b[49m\u001b[43m,\u001b[49m\u001b[43m \u001b[49m\u001b[43mlong\u001b[49m\u001b[43m,\u001b[49m\u001b[43m \u001b[49m\n\u001b[0;32m     11\u001b[0m \u001b[43m                            \u001b[49m\u001b[43mbus_df\u001b[49m\u001b[43m[\u001b[49m\u001b[43m[\u001b[49m\u001b[38;5;124;43m'\u001b[39;49m\u001b[38;5;124;43mlatitude\u001b[39;49m\u001b[38;5;124;43m'\u001b[39;49m\u001b[43m,\u001b[49m\u001b[38;5;124;43m'\u001b[39;49m\u001b[38;5;124;43mlongitude\u001b[39;49m\u001b[38;5;124;43m'\u001b[39;49m\u001b[43m]\u001b[49m\u001b[43m]\u001b[49m\u001b[38;5;241;43m.\u001b[39;49m\u001b[43mastype\u001b[49m\u001b[43m(\u001b[49m\u001b[38;5;124;43m'\u001b[39;49m\u001b[38;5;124;43mfloat64\u001b[39;49m\u001b[38;5;124;43m'\u001b[39;49m\u001b[43m)\u001b[49m\u001b[43m[\u001b[49m\u001b[38;5;124;43m'\u001b[39;49m\u001b[38;5;124;43mlatitude\u001b[39;49m\u001b[38;5;124;43m'\u001b[39;49m\u001b[43m]\u001b[49m\u001b[43m,\u001b[49m\u001b[43m \u001b[49m\n\u001b[0;32m     12\u001b[0m \u001b[43m                            \u001b[49m\u001b[43mbus_df\u001b[49m\u001b[43m[\u001b[49m\u001b[43m[\u001b[49m\u001b[38;5;124;43m'\u001b[39;49m\u001b[38;5;124;43mlatitude\u001b[39;49m\u001b[38;5;124;43m'\u001b[39;49m\u001b[43m,\u001b[49m\u001b[38;5;124;43m'\u001b[39;49m\u001b[38;5;124;43mlongitude\u001b[39;49m\u001b[38;5;124;43m'\u001b[39;49m\u001b[43m]\u001b[49m\u001b[43m]\u001b[49m\u001b[38;5;241;43m.\u001b[39;49m\u001b[43mastype\u001b[49m\u001b[43m(\u001b[49m\u001b[38;5;124;43m'\u001b[39;49m\u001b[38;5;124;43mfloat64\u001b[39;49m\u001b[38;5;124;43m'\u001b[39;49m\u001b[43m)\u001b[49m\u001b[43m[\u001b[49m\u001b[38;5;124;43m'\u001b[39;49m\u001b[38;5;124;43mlongitude\u001b[39;49m\u001b[38;5;124;43m'\u001b[39;49m\u001b[43m]\u001b[49m\u001b[43m,\u001b[49m\u001b[43m \u001b[49m\u001b[43munit\u001b[49m\u001b[38;5;241;43m=\u001b[39;49m\u001b[43m \u001b[49m\u001b[38;5;124;43m'\u001b[39;49m\u001b[38;5;124;43mkm\u001b[39;49m\u001b[38;5;124;43m'\u001b[39;49m\u001b[43m)\u001b[49m\n\u001b[0;32m     13\u001b[0m \u001b[38;5;28;01mif\u001b[39;00m distance\u001b[38;5;241m.\u001b[39mmin()\u001b[38;5;241m<\u001b[39m\u001b[38;5;241m=\u001b[39m\u001b[38;5;241m0.1\u001b[39m:\n\u001b[0;32m     14\u001b[0m     bus_station\u001b[38;5;241m.\u001b[39mappend(\u001b[38;5;241m1\u001b[39m)\n",
      "Input \u001b[1;32mIn [69]\u001b[0m, in \u001b[0;36mgetDistanceBetweenPointsNew\u001b[1;34m(latitude1, longitude1, latitude2, longitude2, unit)\u001b[0m\n\u001b[0;32m     23\u001b[0m     \u001b[38;5;28;01mreturn\u001b[39;00m \u001b[38;5;28mround\u001b[39m(distance, \u001b[38;5;241m2\u001b[39m)\n\u001b[0;32m     24\u001b[0m \u001b[38;5;28;01mif\u001b[39;00m unit \u001b[38;5;241m==\u001b[39m \u001b[38;5;124m'\u001b[39m\u001b[38;5;124mkm\u001b[39m\u001b[38;5;124m'\u001b[39m:\n\u001b[1;32m---> 25\u001b[0m     \u001b[38;5;28;01mreturn\u001b[39;00m \u001b[38;5;28;43mround\u001b[39;49m\u001b[43m(\u001b[49m\u001b[43mdistance\u001b[49m\u001b[43m \u001b[49m\u001b[38;5;241;43m*\u001b[39;49m\u001b[43m \u001b[49m\u001b[38;5;241;43m1.609344\u001b[39;49m\u001b[43m,\u001b[49m\u001b[43m \u001b[49m\u001b[38;5;241;43m2\u001b[39;49m\u001b[43m)\u001b[49m\n",
      "File \u001b[1;32m<__array_function__ internals>:180\u001b[0m, in \u001b[0;36mround_\u001b[1;34m(*args, **kwargs)\u001b[0m\n",
      "File \u001b[1;32mD:\\ANACONDA\\envs\\kdig\\lib\\site-packages\\numpy\\core\\fromnumeric.py:3773\u001b[0m, in \u001b[0;36mround_\u001b[1;34m(a, decimals, out)\u001b[0m\n\u001b[0;32m   3764\u001b[0m \u001b[38;5;129m@array_function_dispatch\u001b[39m(_around_dispatcher)\n\u001b[0;32m   3765\u001b[0m \u001b[38;5;28;01mdef\u001b[39;00m \u001b[38;5;21mround_\u001b[39m(a, decimals\u001b[38;5;241m=\u001b[39m\u001b[38;5;241m0\u001b[39m, out\u001b[38;5;241m=\u001b[39m\u001b[38;5;28;01mNone\u001b[39;00m):\n\u001b[0;32m   3766\u001b[0m     \u001b[38;5;124;03m\"\"\"\u001b[39;00m\n\u001b[0;32m   3767\u001b[0m \u001b[38;5;124;03m    Round an array to the given number of decimals.\u001b[39;00m\n\u001b[0;32m   3768\u001b[0m \n\u001b[1;32m   (...)\u001b[0m\n\u001b[0;32m   3771\u001b[0m \u001b[38;5;124;03m    around : equivalent function; see for details.\u001b[39;00m\n\u001b[0;32m   3772\u001b[0m \u001b[38;5;124;03m    \"\"\"\u001b[39;00m\n\u001b[1;32m-> 3773\u001b[0m     \u001b[38;5;28;01mreturn\u001b[39;00m \u001b[43maround\u001b[49m\u001b[43m(\u001b[49m\u001b[43ma\u001b[49m\u001b[43m,\u001b[49m\u001b[43m \u001b[49m\u001b[43mdecimals\u001b[49m\u001b[38;5;241;43m=\u001b[39;49m\u001b[43mdecimals\u001b[49m\u001b[43m,\u001b[49m\u001b[43m \u001b[49m\u001b[43mout\u001b[49m\u001b[38;5;241;43m=\u001b[39;49m\u001b[43mout\u001b[49m\u001b[43m)\u001b[49m\n",
      "File \u001b[1;32m<__array_function__ internals>:180\u001b[0m, in \u001b[0;36maround\u001b[1;34m(*args, **kwargs)\u001b[0m\n",
      "File \u001b[1;32mD:\\ANACONDA\\envs\\kdig\\lib\\site-packages\\numpy\\core\\fromnumeric.py:3348\u001b[0m, in \u001b[0;36maround\u001b[1;34m(a, decimals, out)\u001b[0m\n\u001b[0;32m   3257\u001b[0m \u001b[38;5;129m@array_function_dispatch\u001b[39m(_around_dispatcher)\n\u001b[0;32m   3258\u001b[0m \u001b[38;5;28;01mdef\u001b[39;00m \u001b[38;5;21maround\u001b[39m(a, decimals\u001b[38;5;241m=\u001b[39m\u001b[38;5;241m0\u001b[39m, out\u001b[38;5;241m=\u001b[39m\u001b[38;5;28;01mNone\u001b[39;00m):\n\u001b[0;32m   3259\u001b[0m     \u001b[38;5;124;03m\"\"\"\u001b[39;00m\n\u001b[0;32m   3260\u001b[0m \u001b[38;5;124;03m    Evenly round to the given number of decimals.\u001b[39;00m\n\u001b[0;32m   3261\u001b[0m \n\u001b[1;32m   (...)\u001b[0m\n\u001b[0;32m   3346\u001b[0m \n\u001b[0;32m   3347\u001b[0m \u001b[38;5;124;03m    \"\"\"\u001b[39;00m\n\u001b[1;32m-> 3348\u001b[0m     \u001b[38;5;28;01mreturn\u001b[39;00m \u001b[43m_wrapfunc\u001b[49m\u001b[43m(\u001b[49m\u001b[43ma\u001b[49m\u001b[43m,\u001b[49m\u001b[43m \u001b[49m\u001b[38;5;124;43m'\u001b[39;49m\u001b[38;5;124;43mround\u001b[39;49m\u001b[38;5;124;43m'\u001b[39;49m\u001b[43m,\u001b[49m\u001b[43m \u001b[49m\u001b[43mdecimals\u001b[49m\u001b[38;5;241;43m=\u001b[39;49m\u001b[43mdecimals\u001b[49m\u001b[43m,\u001b[49m\u001b[43m \u001b[49m\u001b[43mout\u001b[49m\u001b[38;5;241;43m=\u001b[39;49m\u001b[43mout\u001b[49m\u001b[43m)\u001b[49m\n",
      "File \u001b[1;32mD:\\ANACONDA\\envs\\kdig\\lib\\site-packages\\numpy\\core\\fromnumeric.py:57\u001b[0m, in \u001b[0;36m_wrapfunc\u001b[1;34m(obj, method, *args, **kwds)\u001b[0m\n\u001b[0;32m     54\u001b[0m     \u001b[38;5;28;01mreturn\u001b[39;00m _wrapit(obj, method, \u001b[38;5;241m*\u001b[39margs, \u001b[38;5;241m*\u001b[39m\u001b[38;5;241m*\u001b[39mkwds)\n\u001b[0;32m     56\u001b[0m \u001b[38;5;28;01mtry\u001b[39;00m:\n\u001b[1;32m---> 57\u001b[0m     \u001b[38;5;28;01mreturn\u001b[39;00m bound(\u001b[38;5;241m*\u001b[39margs, \u001b[38;5;241m*\u001b[39m\u001b[38;5;241m*\u001b[39mkwds)\n\u001b[0;32m     58\u001b[0m \u001b[38;5;28;01mexcept\u001b[39;00m \u001b[38;5;167;01mTypeError\u001b[39;00m:\n\u001b[0;32m     59\u001b[0m     \u001b[38;5;66;03m# A TypeError occurs if the object does have such a method in its\u001b[39;00m\n\u001b[0;32m     60\u001b[0m     \u001b[38;5;66;03m# class, but its signature is not identical to that of NumPy's. This\u001b[39;00m\n\u001b[1;32m   (...)\u001b[0m\n\u001b[0;32m     64\u001b[0m     \u001b[38;5;66;03m# Call _wrapit from within the except clause to ensure a potential\u001b[39;00m\n\u001b[0;32m     65\u001b[0m     \u001b[38;5;66;03m# exception has a traceback chain.\u001b[39;00m\n\u001b[0;32m     66\u001b[0m     \u001b[38;5;28;01mreturn\u001b[39;00m _wrapit(obj, method, \u001b[38;5;241m*\u001b[39margs, \u001b[38;5;241m*\u001b[39m\u001b[38;5;241m*\u001b[39mkwds)\n",
      "File \u001b[1;32mD:\\ANACONDA\\envs\\kdig\\lib\\site-packages\\pandas\\core\\series.py:2442\u001b[0m, in \u001b[0;36mSeries.round\u001b[1;34m(self, decimals, *args, **kwargs)\u001b[0m\n\u001b[0;32m   2410\u001b[0m \u001b[38;5;124;03m\"\"\"\u001b[39;00m\n\u001b[0;32m   2411\u001b[0m \u001b[38;5;124;03mRound each value in a Series to the given number of decimals.\u001b[39;00m\n\u001b[0;32m   2412\u001b[0m \n\u001b[1;32m   (...)\u001b[0m\n\u001b[0;32m   2439\u001b[0m \u001b[38;5;124;03mdtype: float64\u001b[39;00m\n\u001b[0;32m   2440\u001b[0m \u001b[38;5;124;03m\"\"\"\u001b[39;00m\n\u001b[0;32m   2441\u001b[0m nv\u001b[38;5;241m.\u001b[39mvalidate_round(args, kwargs)\n\u001b[1;32m-> 2442\u001b[0m result \u001b[38;5;241m=\u001b[39m \u001b[38;5;28;43mself\u001b[39;49m\u001b[38;5;241;43m.\u001b[39;49m\u001b[43m_values\u001b[49m\u001b[38;5;241;43m.\u001b[39;49m\u001b[43mround\u001b[49m\u001b[43m(\u001b[49m\u001b[43mdecimals\u001b[49m\u001b[43m)\u001b[49m\n\u001b[0;32m   2443\u001b[0m result \u001b[38;5;241m=\u001b[39m \u001b[38;5;28mself\u001b[39m\u001b[38;5;241m.\u001b[39m_constructor(result, index\u001b[38;5;241m=\u001b[39m\u001b[38;5;28mself\u001b[39m\u001b[38;5;241m.\u001b[39mindex)\u001b[38;5;241m.\u001b[39m__finalize__(\n\u001b[0;32m   2444\u001b[0m     \u001b[38;5;28mself\u001b[39m, method\u001b[38;5;241m=\u001b[39m\u001b[38;5;124m\"\u001b[39m\u001b[38;5;124mround\u001b[39m\u001b[38;5;124m\"\u001b[39m\n\u001b[0;32m   2445\u001b[0m )\n\u001b[0;32m   2447\u001b[0m \u001b[38;5;28;01mreturn\u001b[39;00m result\n",
      "\u001b[1;31mKeyboardInterrupt\u001b[0m: "
     ]
    }
   ],
   "source": [
    "# 버스 데이터 가공(아파트 데이터는 위의 data_df 사용)\n",
    "\n",
    "bus_df=pd.read_csv(\"./data/전처리 완료 데이터/서울시 버스 위치정보_전처리.csv\")\n",
    "bus_df.drop(['Unnamed: 0'], axis=1, inplace=True)\n",
    "bus_station=[]\n",
    "\n",
    "for i in tqdm(data_df.index) :\n",
    "    lat = data_df.loc[i, ['latitude','longitude']].astype('float64')['latitude'] \n",
    "    long = data_df.loc[i, ['latitude','longitude']].astype('float64')['longitude']\n",
    "    distance=getDistanceBetweenPointsNew( lat, long, \n",
    "                                bus_df[['latitude','longitude']].astype('float64')['latitude'], \n",
    "                                bus_df[['latitude','longitude']].astype('float64')['longitude'], unit= 'km')\n",
    "    if distance.min()<=0.1:\n",
    "        bus_station.append(1)\n",
    "    else:\n",
    "        bus_station.append(0)    \n",
    "\n",
    "pd.DataFrame(bus_station, columns=['bus']).to_csv('./data/전처리 완료 데이터/bus_station.csv', index=False) "
   ]
  },
  {
   "cell_type": "code",
   "execution_count": 215,
   "id": "ed194461",
   "metadata": {
    "scrolled": true
   },
   "outputs": [
    {
     "name": "stderr",
     "output_type": "stream",
     "text": [
      "100%|█████████████████████████████████████████████████████████████████████████| 521282/521282 [42:20<00:00, 205.18it/s]\n"
     ]
    }
   ],
   "source": [
    "# 공원 데이터 가공(아파트 데이터는 위의 data_df 사용)\n",
    "park_df=pd.read_csv(\"./data/전처리 완료 데이터/서울시 주요 공원현황_전처리.csv\", encoding='cp949')\n",
    "park_df.drop(['Unnamed: 0'], axis=1, inplace=True)\n",
    "\n",
    "park=[]\n",
    "\n",
    "for i in tqdm(data_df.index) :\n",
    "    lat = data_df.loc[i, ['latitude','longitude']].astype('float64')['latitude'] \n",
    "    long = data_df.loc[i, ['latitude','longitude']].astype('float64')['longitude']\n",
    "    distance=getDistanceBetweenPointsNew( lat, long, \n",
    "                                park_df[['위도','경도']].astype('float64')['위도'], \n",
    "                                park_df[['위도','경도']].astype('float64')['경도'], unit= 'km')\n",
    "    if distance.min()<=0.5:\n",
    "        if park_df.loc[ list(distance).index(min(list(distance))), '한강공원' ]==1:\n",
    "            park.append([1,1])\n",
    "        else:\n",
    "            park.append([1,0])\n",
    "        \n",
    "    else:\n",
    "        park.append([0,0])    \n",
    "\n",
    "pd.DataFrame(park, columns=['park', 'han_park']).to_csv('./data/전처리 완료 데이터/park_info.csv', index=False) "
   ]
  },
  {
   "cell_type": "code",
   "execution_count": 216,
   "id": "8d713770",
   "metadata": {
    "scrolled": true
   },
   "outputs": [
    {
     "name": "stderr",
     "output_type": "stream",
     "text": [
      "C:\\Users\\jhgf\\AppData\\Local\\Temp\\ipykernel_8684\\1537340272.py:30: SettingWithCopyWarning: \n",
      "A value is trying to be set on a copy of a slice from a DataFrame.\n",
      "Try using .loc[row_indexer,col_indexer] = value instead\n",
      "\n",
      "See the caveats in the documentation: https://pandas.pydata.org/pandas-docs/stable/user_guide/indexing.html#returning-a-view-versus-a-copy\n",
      "  df_loc['cluster']=cluster_labels\n",
      "100%|█████████████████████████████████████████████████████████████████████████| 521282/521282 [33:24<00:00, 260.11it/s]\n"
     ]
    }
   ],
   "source": [
    "### 군집 데이터 가공(아파트 데이터는 위의 data_df 사용)\n",
    "\n",
    "from sklearn.cluster import KMeans\n",
    "\n",
    "# 군집 생성\n",
    "df=pd.read_csv(\"C:/Users/jhgf/Desktop/multicampus/multicampus/조별과제 1차/프로젝트 파일/스타벅스 데이터를 이용한 아파트 가격 예측/data/coffee_data/상가업소_202112_01.csv\", encoding='cp949' )\n",
    "df.dropna(subset='상호명', inplace=True)\n",
    "columns = ['상호명', '상권업종대분류명', '상권업종중분류명', '상권업종소분류명', \n",
    "       '시도명', '시군구명', '행정동명', '법정동명', '도로명주소', \n",
    "       '경도', '위도']\n",
    "df_tmp=df[columns].copy()\n",
    "df_seoul=df_tmp[df_tmp['시도명'] =='서울특별시'].copy()\n",
    "df_seoul[\"상호명_소문자\"] = df_seoul['상호명'].str.lower()\n",
    "df_cafe=df_seoul[ df_seoul['상호명_소문자'].str.contains('스타벅스|starbucks') ]\n",
    "df_cafe=df_cafe[ df_cafe['상권업종중분류명']=='커피점/카페']\n",
    "coffee=[]\n",
    "for data in df_cafe['상호명_소문자']:\n",
    "    if '스타벅스' in data or 'starbucks' in data:\n",
    "        coffee.append('스타벅스')\n",
    "    else:\n",
    "        coffee.append('이디야')\n",
    "df_cafe['브랜드명']=coffee\n",
    "df_star=df_cafe[df_cafe['브랜드명']=='스타벅스']\n",
    "df_star.reset_index(drop=True, inplace=True)\n",
    "\n",
    "df_loc=df_star[['위도', '경도']]\n",
    "\n",
    "cluster = KMeans(n_clusters = 5, max_iter=500, random_state=0)\n",
    "cluster_labels = cluster.fit_predict(df_loc)\n",
    "df_loc['cluster']=cluster_labels\n",
    "center=cluster.cluster_centers_\n",
    "\n",
    "# 군집 중심을 기준으로 nkm 내에 있는 스타벅스 갯수 구하는 코드(가중치 역할)\n",
    "num_cafe=[]\n",
    "for i in range(5):\n",
    "    num=0\n",
    "    lat = center[i][0]\n",
    "    long = center[i][1]\n",
    "    distance=getDistanceBetweenPointsNew( lat, long, \n",
    "    df_loc[df_loc['cluster']==i]['위도'],\n",
    "    df_loc[df_loc['cluster']==i]['경도'], unit= 'km')\n",
    "    for data in distance:\n",
    "        if data<=1.5:  # 여기에 반경 몇km 이내의 스타벅스 갯수를 확인할건지 입력\n",
    "            num+=1\n",
    "    num_cafe.append(num)\n",
    "    \n",
    "# 가장 가까운 군집까지의 거리 가공치 산출\n",
    "center_df=pd.DataFrame(center, columns=['latitude','longitude'])    \n",
    "center_df\n",
    "center_weight=[]\n",
    "for i in tqdm(data_df.index) :\n",
    "    lat = data_df.loc[i, ['latitude','longitude']].astype('float64')['latitude'] \n",
    "    long = data_df.loc[i, ['latitude','longitude']].astype('float64')['longitude']\n",
    "    distance=getDistanceBetweenPointsNew( lat, long, \n",
    "                                         center_df[['latitude','longitude']].astype('float64')['latitude'], \n",
    "                                         center_df[['latitude','longitude']].astype('float64')['longitude'], unit= 'km')\n",
    "    center_weight.append( num_cafe[list(distance).index(min(list(distance)))] / min(list(distance)) )\n",
    "\n",
    "pd.DataFrame(center_weight, columns=['center_weight']).to_csv('./data/전처리 완료 데이터/center_info.csv', index=False) "
   ]
  },
  {
   "cell_type": "code",
   "execution_count": null,
   "id": "29ae1e4e",
   "metadata": {},
   "outputs": [],
   "source": []
  }
 ],
 "metadata": {
  "kernelspec": {
   "display_name": "Python 3 (ipykernel)",
   "language": "python",
   "name": "python3"
  },
  "language_info": {
   "codemirror_mode": {
    "name": "ipython",
    "version": 3
   },
   "file_extension": ".py",
   "mimetype": "text/x-python",
   "name": "python",
   "nbconvert_exporter": "python",
   "pygments_lexer": "ipython3",
   "version": "3.9.7"
  }
 },
 "nbformat": 4,
 "nbformat_minor": 5
}
